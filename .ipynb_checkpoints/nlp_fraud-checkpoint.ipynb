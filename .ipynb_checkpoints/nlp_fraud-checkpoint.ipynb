{
 "cells": [
  {
   "cell_type": "code",
   "execution_count": 24,
   "metadata": {
    "collapsed": false
   },
   "outputs": [],
   "source": [
    "import pandas as pd\n",
    "import numpy as np\n",
    "from bs4 import BeautifulSoup\n",
    "from nltk.corpus import stopwords\n",
    "from collections import defaultdict\n",
    "from string import punctuation\n",
    "from nltk.stem import WordNetLemmatizer\n",
    "from sklearn.ensemble import RandomForestClassifier\n",
    "from sklearn.feature_extraction.text import TfidfVectorizer\n",
    "import cPickle as pickle"
   ]
  },
  {
   "cell_type": "code",
   "execution_count": 3,
   "metadata": {
    "collapsed": true
   },
   "outputs": [],
   "source": [
    "df = pd.read_json('data.json')"
   ]
  },
  {
   "cell_type": "code",
   "execution_count": 19,
   "metadata": {
    "collapsed": false
   },
   "outputs": [],
   "source": [
    "arr1 = df['description'].values\n",
    "arr2 = df['name'].values\n",
    "arr3 = df['org_desc'].values\n",
    "arr4 = df['org_name'].values"
   ]
  },
  {
   "cell_type": "code",
   "execution_count": 46,
   "metadata": {
    "collapsed": true
   },
   "outputs": [],
   "source": [
    "def tokenize(doc):\n",
    "    bs = BeautifulSoup(doc.encode('ascii','ignore'))\n",
    "    document = bs.text\n",
    "    wordnet_lemmatizer = WordNetLemmatizer()\n",
    "    stops = stopwords.words('english')\n",
    "    sp = set(punctuation)\n",
    "    sp.add('``')\n",
    "    sp.add(\"''\")\n",
    "    texts = [word for word in document.lower().split() if word not in sp]\n",
    "    texts = [word for word in document if word not in stops]\n",
    "    texts = [wordnet_lemmatizer.lemmatize(word) for word in document]\n",
    "    return texts\n",
    "def getvals(text):\n",
    "    tf = TfidfVectorizer(tokenizer=tokenize,max_features=20000)\n",
    "    return tf.fit(text)"
   ]
  },
  {
   "cell_type": "code",
   "execution_count": 48,
   "metadata": {
    "collapsed": true
   },
   "outputs": [],
   "source": [
    "def getall(df):\n",
    "    fraud = {'premium':0, 'spammer_limited': 0, 'spammer_warn':0, 'tos_warn':0,\n",
    "        'spammer_noinvite':0, 'tos_lock':0, 'locked':0, 'spammer_web':0,\n",
    "        'spammer':0, 'fraudster_event':1, 'fraudster':1, 'fraudster_att':1}\n",
    "    df['fraud'] = df['acct_type'].map(fraud)\n",
    "    y = df['fraud'].values\n",
    "    arr1 = df['description'].values\n",
    "    arr2 = df['name'].values\n",
    "    arr3 = df['org_desc'].values\n",
    "    arr4 = df['org_name'].values\n",
    "    rf1 = RandomForestClassifier(n_estimators=100,n_jobs=-1)\n",
    "    rf2 = RandomForestClassifier(n_estimators=100,n_jobs=-1)\n",
    "    rf3 = RandomForestClassifier(n_estimators=100,n_jobs=-1)\n",
    "    rf4 = RandomForestClassifier(n_estimators=100,n_jobs=-1)\n",
    "    x1 = models[0].transform(arr1).toarray()\n",
    "    x2 = models[1].transform(arr2).toarray()\n",
    "    x3 = models[2].transform(arr3).toarray()\n",
    "    x4 = models[3].transform(arr4).toarray()\n",
    "    rf1.fit(x1,y)\n",
    "    rf2.fit(x2,y)\n",
    "    rf3.fit(x3,y)\n",
    "    rf4.fit(x4,y)\n",
    "    return rf1,rf2,rf3,rf4"
   ]
  },
  {
   "cell_type": "code",
   "execution_count": 49,
   "metadata": {
    "collapsed": true
   },
   "outputs": [],
   "source": [
    "a,b,c,d = getall(df)"
   ]
  },
  {
   "cell_type": "code",
   "execution_count": 47,
   "metadata": {
    "collapsed": false
   },
   "outputs": [],
   "source": [
    "models = [getvals(arr1),getvals(arr2),getvals(arr3),getvals(arr4)]\n",
    "names = ['description','name','org_desc','org_name']\n",
    "for i,model in enumerate(models):\n",
    "    with open('tfidf-'+names[i]+'.pkl','w') as f:\n",
    "        pickle.dump(model,f)"
   ]
  },
  {
   "cell_type": "code",
   "execution_count": 50,
   "metadata": {
    "collapsed": true
   },
   "outputs": [],
   "source": [
    "names = ['description','name','org_desc','org_name']\n",
    "lst = [a,b,c,d]\n",
    "for i,model in enumerate(lst):\n",
    "    with open('rfmodel-'+names[i]+'.pkl','w') as f:\n",
    "        pickle.dump(model,f)"
   ]
  },
  {
   "cell_type": "code",
   "execution_count": 31,
   "metadata": {
    "collapsed": false
   },
   "outputs": [],
   "source": [
    "with open('tfid0.pkl') as f:\n",
    "    model = pickle.load(f)"
   ]
  },
  {
   "cell_type": "code",
   "execution_count": 41,
   "metadata": {
    "collapsed": true
   },
   "outputs": [],
   "source": [
    "arr1 = df['description'].values\n",
    "arr2 = df['name'].values\n",
    "arr3 = df['org_desc'].values\n",
    "arr4 = df['org_name'].values"
   ]
  },
  {
   "cell_type": "code",
   "execution_count": 36,
   "metadata": {
    "collapsed": false
   },
   "outputs": [
    {
     "data": {
      "text/plain": [
       "TfidfVectorizer(analyzer=u'word', binary=False, decode_error=u'strict',\n",
       "        dtype=<type 'numpy.int64'>, encoding=u'utf-8', input=u'content',\n",
       "        lowercase=True, max_df=1.0, max_features=None, min_df=1,\n",
       "        ngram_range=(1, 1), norm=u'l2', preprocessor=None, smooth_idf=True,\n",
       "        stop_words=None, strip_accents=None, sublinear_tf=False,\n",
       "        token_pattern=u'(?u)\\\\b\\\\w\\\\w+\\\\b', tokenizer=None, use_idf=True,\n",
       "        vocabulary=None)"
      ]
     },
     "execution_count": 36,
     "metadata": {},
     "output_type": "execute_result"
    }
   ],
   "source": [
    "models[0]"
   ]
  },
  {
   "cell_type": "code",
   "execution_count": 38,
   "metadata": {
    "collapsed": false
   },
   "outputs": [
    {
     "ename": "NameError",
     "evalue": "name 'frequency' is not defined",
     "output_type": "error",
     "traceback": [
      "\u001b[0;31m---------------------------------------------------------------------------\u001b[0m",
      "\u001b[0;31mNameError\u001b[0m                                 Traceback (most recent call last)",
      "\u001b[0;32m<ipython-input-38-e3e5be88e2f8>\u001b[0m in \u001b[0;36m<module>\u001b[0;34m()\u001b[0m\n\u001b[0;32m----> 1\u001b[0;31m \u001b[0mfrequency\u001b[0m\u001b[0;34m\u001b[0m\u001b[0m\n\u001b[0m",
      "\u001b[0;31mNameError\u001b[0m: name 'frequency' is not defined"
     ]
    }
   ],
   "source": [
    "frequency"
   ]
  },
  {
   "cell_type": "code",
   "execution_count": null,
   "metadata": {
    "collapsed": true
   },
   "outputs": [],
   "source": []
  }
 ],
 "metadata": {
  "anaconda-cloud": {},
  "kernelspec": {
   "display_name": "Python [default]",
   "language": "python",
   "name": "python2"
  },
  "language_info": {
   "codemirror_mode": {
    "name": "ipython",
    "version": 2
   },
   "file_extension": ".py",
   "mimetype": "text/x-python",
   "name": "python",
   "nbconvert_exporter": "python",
   "pygments_lexer": "ipython2",
   "version": "2.7.13"
  }
 },
 "nbformat": 4,
 "nbformat_minor": 2
}
